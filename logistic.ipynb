{
 "cells": [
  {
   "cell_type": "code",
   "execution_count": 1,
   "metadata": {},
   "outputs": [],
   "source": [
    "import logging\n",
    "import pandas as pd\n",
    "import numpy as np\n",
    "\n",
    "from numpy import random\n",
    "import gensim\n",
    "\n",
    "import nltk\n",
    "from sklearn.model_selection import train_test_split\n",
    "from sklearn.feature_extraction.text import CountVectorizer, TfidfVectorizer\n",
    "from sklearn.metrics import accuracy_score, confusion_matrix\n",
    "import matplotlib.pyplot as plt\n",
    "from nltk.corpus import stopwords\n",
    "import re\n",
    "from bs4 import BeautifulSoup\n",
    "%matplotlib inline"
   ]
  },
  {
   "cell_type": "code",
   "execution_count": 2,
   "metadata": {},
   "outputs": [
    {
     "data": {
      "text/plain": [
       "4157"
      ]
     },
     "execution_count": 2,
     "metadata": {},
     "output_type": "execute_result"
    }
   ],
   "source": [
    "df = pd.read_csv('severity_dataset.csv', delimiter=';', names=['ID', 'Guideword', 'Hazard', 'Detailed scenario', 'Hazardous event', 'Severity', 'Severity rationale'])\n",
    "df = df[pd.notnull(df['Severity'])]\n",
    "# shuffle the DataFrame rows\n",
    "df = df.sample(frac=1).reset_index(drop=True)\n",
    "\n",
    "# print(df.head(10))\n",
    "# Calculate the total number of words in the 'Detailed scenario' column\n",
    "df['Detailed scenario'].apply(lambda x: len(x.split(' '))).sum()"
   ]
  },
  {
   "cell_type": "code",
   "execution_count": 3,
   "metadata": {},
   "outputs": [
    {
     "name": "stdout",
     "output_type": "stream",
     "text": [
      "\"Ego vehicle is driving in a multi-lane one-way street with adjacent parking lanes and dotted line markings, a bicycle suddenly appears from the parking lane\"\n",
      "Severity: S2\n"
     ]
    }
   ],
   "source": [
    "def print_plot(index):\n",
    "    example = df[df.index == index][['Detailed scenario', 'Severity']].values[0]\n",
    "    if len(example) > 0:\n",
    "        print(example[0])\n",
    "        print('Severity:', example[1])\n",
    "print_plot(10)"
   ]
  },
  {
   "cell_type": "code",
   "execution_count": 8,
   "metadata": {},
   "outputs": [
    {
     "name": "stdout",
     "output_type": "stream",
     "text": [
      "    ID   Guideword                                             Hazard  \\\n",
      "0  110    Omission  CAEM fails to produce a lateral motion request...   \n",
      "1    4    Omission  CAEM fails to produce a lateral motion request...   \n",
      "2   23    Omission  CAEM fails to produce a lateral motion request...   \n",
      "3  143  Commission  CAEM produces a lateral motion request when th...   \n",
      "4  153  Commission  CAEM produces a lateral motion request when th...   \n",
      "5  193  Commission  CAEM produces a lateral motion request when th...   \n",
      "6   97    Omission  CAEM fails to produce a lateral motion request...   \n",
      "7   18  Commission  CAEM produces a lateral motion request when th...   \n",
      "8   10    Omission  CAEM fails to produce a lateral motion request...   \n",
      "9  151  Commission  CAEM produces a lateral motion request when th...   \n",
      "\n",
      "                                   Detailed scenario  \\\n",
      "0  approaching tintersection yield signs truck st...   \n",
      "1  sharp downhill curve low friction due wet road...   \n",
      "2  sharp downhill curve low friction due wet road...   \n",
      "3  driving uphill singlelane straight road high f...   \n",
      "4  driving multilane oneway street adjacent parki...   \n",
      "5  transitioning straight road sharp curve car ap...   \n",
      "6  driving wet road passing gradeseparated inters...   \n",
      "7  driving straight multilane road transitions br...   \n",
      "8  ego vehicle driving multilane oneway street ad...   \n",
      "9  intersection stop signs another vehicle approa...   \n",
      "\n",
      "                                     Hazardous event Severity  \\\n",
      "0  \"CAEM fails to produce a lateral motion reques...       S2   \n",
      "1  \"CAEM fails to produce a lateral motion reques...       S3   \n",
      "2  \"CAEM fails to produce a lateral motion reques...       S1   \n",
      "3  \"CAEM produces a lateral motion request causin...       S2   \n",
      "4  \"CAEM produces a lateral motion request causin...       S2   \n",
      "5  \"CAEM produces a lateral motion request causin...       S3   \n",
      "6  \"CAEM fails to produce a lateral motion reques...       S2   \n",
      "7  \"CAEM produces a lateral motion request when t...       S2   \n",
      "8  \"CAEM fails to produce a lateral motion reques...       S3   \n",
      "9  \"CAEM produces a lateral motion request causin...       S2   \n",
      "\n",
      "                                  Severity rationale  \n",
      "0   The CAEM's failure to produce a lateral motio...  \n",
      "1   The hazardous event involves a failure in the...  \n",
      "2   The severity of the hazardous event where \"CA...  \n",
      "3   The severity of the hazardous event is predic...  \n",
      "4   The severity of the hazardous event is predic...  \n",
      "5  The hazardous event involves a potential head-...  \n",
      "6   The severity of the hazardous event is predic...  \n",
      "7   The hazardous event involves a collision with...  \n",
      "8   The CAEM failing to produce a lateral motion ...  \n",
      "9   The hazardous event involves a lateral motion...  \n"
     ]
    },
    {
     "name": "stderr",
     "output_type": "stream",
     "text": [
      "[nltk_data] Downloading package stopwords to\n",
      "[nltk_data]     /Users/ranimkhojah/nltk_data...\n",
      "[nltk_data]   Package stopwords is already up-to-date!\n"
     ]
    }
   ],
   "source": [
    "# Download necessary NLTK data\n",
    "nltk.download('stopwords')\n",
    "\n",
    "REPLACE_BY_SPACE_RE = re.compile(r'[/(){}[\\]\\|@,;]')\n",
    "BAD_SYMBOLS_RE = re.compile(r'[^0-9a-z #+_]')\n",
    "STOPWORDS = set(stopwords.words('english'))\n",
    "\n",
    "def clean_text(text):\n",
    "    \"\"\"\n",
    "    text: a string\n",
    "    \n",
    "    return: modified initial string\n",
    "    \"\"\"\n",
    "    text = BeautifulSoup(text, \"lxml\").text  # HTML decoding\n",
    "    text = text.lower()  # lowercase text\n",
    "    text = REPLACE_BY_SPACE_RE.sub(' ', text)  # replace REPLACE_BY_SPACE_RE symbols by space in text\n",
    "    text = BAD_SYMBOLS_RE.sub('', text)  # delete symbols which are in BAD_SYMBOLS_RE from text\n",
    "    text = ' '.join(word for word in text.split() if word not in STOPWORDS)  # delete stopwords from text\n",
    "    return text\n",
    "\n",
    "# Assuming df is already defined as shown in your previous code\n",
    "df['Detailed scenario'] = df['Detailed scenario'].apply(clean_text)\n",
    "print(df.head(10))\n"
   ]
  },
  {
   "cell_type": "code",
   "execution_count": null,
   "metadata": {},
   "outputs": [],
   "source": []
  }
 ],
 "metadata": {
  "kernelspec": {
   "display_name": "dl4nlp",
   "language": "python",
   "name": "python3"
  },
  "language_info": {
   "codemirror_mode": {
    "name": "ipython",
    "version": 3
   },
   "file_extension": ".py",
   "mimetype": "text/x-python",
   "name": "python",
   "nbconvert_exporter": "python",
   "pygments_lexer": "ipython3",
   "version": "3.12.3"
  }
 },
 "nbformat": 4,
 "nbformat_minor": 2
}
